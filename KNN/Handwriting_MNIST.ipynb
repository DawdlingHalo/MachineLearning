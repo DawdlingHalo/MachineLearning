{
  "nbformat": 4,
  "nbformat_minor": 0,
  "metadata": {
    "colab": {
      "name": "Handwriting_MNIST.ipynb",
      "provenance": []
    },
    "kernelspec": {
      "name": "python3",
      "display_name": "Python 3"
    },
    "accelerator": "GPU"
  },
  "cells": [
    {
      "cell_type": "markdown",
      "metadata": {
        "id": "neRU5LQpJ-cK"
      },
      "source": [
        "#KNN\n"
      ]
    },
    {
      "cell_type": "code",
      "metadata": {
        "id": "voYvd-BOJ5i8"
      },
      "source": [
        "import numpy as np\n",
        "import matplotlib.pyplot as plt\n",
        "import pandas as pd\n",
        "from sklearn.model_selection import train_test_split"
      ],
      "execution_count": 1,
      "outputs": []
    },
    {
      "cell_type": "code",
      "metadata": {
        "id": "kIAZMnOPeOoP",
        "colab": {
          "base_uri": "https://localhost:8080/"
        },
        "outputId": "8fd7ec3f-4c97-44bb-fc7a-528e51605bf7"
      },
      "source": [
        "! wget https://www.dropbox.com/s/vg4w3gs6qqoctrv/mnist_train_small.npy?dl=0\n",
        "data = np.load(\"/content/mnist_train_small.npy?dl=0\")\n",
        "X = data[:,1:]\n",
        "y = data[:,0]\n",
        "X.shape , y.shape"
      ],
      "execution_count": 2,
      "outputs": [
        {
          "output_type": "stream",
          "text": [
            "--2020-12-03 17:50:07--  https://www.dropbox.com/s/vg4w3gs6qqoctrv/mnist_train_small.npy?dl=0\n",
            "Resolving www.dropbox.com (www.dropbox.com)... 162.125.6.1, 2620:100:601c:1::a27d:601\n",
            "Connecting to www.dropbox.com (www.dropbox.com)|162.125.6.1|:443... connected.\n",
            "HTTP request sent, awaiting response... 301 Moved Permanently\n",
            "Location: /s/raw/vg4w3gs6qqoctrv/mnist_train_small.npy [following]\n",
            "--2020-12-03 17:50:08--  https://www.dropbox.com/s/raw/vg4w3gs6qqoctrv/mnist_train_small.npy\n",
            "Reusing existing connection to www.dropbox.com:443.\n",
            "HTTP request sent, awaiting response... 302 Found\n",
            "Location: https://uc3d08548989f4da34434463cacd.dl.dropboxusercontent.com/cd/0/inline/BEaFfo_0Gr_D_cR4CXNs8mIW8pyLeAaHgKGM7koNoZLVzZHKZQ7ZTCIA1pZ75NgztHYUzdD1yUvsbG-ATxG8EuDGDF2n5oSsrmKlHFUb5G4e0liTa06-kyn7__RyQpnJAz4/file# [following]\n",
            "--2020-12-03 17:50:08--  https://uc3d08548989f4da34434463cacd.dl.dropboxusercontent.com/cd/0/inline/BEaFfo_0Gr_D_cR4CXNs8mIW8pyLeAaHgKGM7koNoZLVzZHKZQ7ZTCIA1pZ75NgztHYUzdD1yUvsbG-ATxG8EuDGDF2n5oSsrmKlHFUb5G4e0liTa06-kyn7__RyQpnJAz4/file\n",
            "Resolving uc3d08548989f4da34434463cacd.dl.dropboxusercontent.com (uc3d08548989f4da34434463cacd.dl.dropboxusercontent.com)... 162.125.4.15, 2620:100:6019:15::a27d:40f\n",
            "Connecting to uc3d08548989f4da34434463cacd.dl.dropboxusercontent.com (uc3d08548989f4da34434463cacd.dl.dropboxusercontent.com)|162.125.4.15|:443... connected.\n",
            "HTTP request sent, awaiting response... 200 OK\n",
            "Length: 15699343 (15M) [text/plain]\n",
            "Saving to: ‘mnist_train_small.npy?dl=0’\n",
            "\n",
            "mnist_train_small.n 100%[===================>]  14.97M  48.9MB/s    in 0.3s    \n",
            "\n",
            "2020-12-03 17:50:09 (48.9 MB/s) - ‘mnist_train_small.npy?dl=0’ saved [15699343/15699343]\n",
            "\n"
          ],
          "name": "stdout"
        },
        {
          "output_type": "execute_result",
          "data": {
            "text/plain": [
              "((19999, 784), (19999,))"
            ]
          },
          "metadata": {
            "tags": []
          },
          "execution_count": 2
        }
      ]
    },
    {
      "cell_type": "code",
      "metadata": {
        "id": "6t54ejyHn3Xx",
        "colab": {
          "base_uri": "https://localhost:8080/",
          "height": 283
        },
        "outputId": "166805ab-33c2-4dc2-ad26-596e7429ece4"
      },
      "source": [
        "plt.imshow(X[0].reshape(28,28),cmap='gray')"
      ],
      "execution_count": 3,
      "outputs": [
        {
          "output_type": "execute_result",
          "data": {
            "text/plain": [
              "<matplotlib.image.AxesImage at 0x7f696f0428d0>"
            ]
          },
          "metadata": {
            "tags": []
          },
          "execution_count": 3
        },
        {
          "output_type": "display_data",
          "data": {
            "image/png": "[encoded data removed]",
            "text/plain": [
              "<Figure size 432x288 with 1 Axes>"
            ]
          },
          "metadata": {
            "tags": [],
            "needs_background": "light"
          }
        }
      ]
    },
    {
      "cell_type": "code",
      "metadata": {
        "id": "L69oRCVqCRGK"
      },
      "source": [
        "X_train, X_test, y_train, y_test = train_test_split(X, y, test_size=0.33, random_state=42)"
      ],
      "execution_count": 4,
      "outputs": []
    },
    {
      "cell_type": "code",
      "metadata": {
        "id": "IV8oWWZFCmjx",
        "colab": {
          "base_uri": "https://localhost:8080/"
        },
        "outputId": "752faedd-a24c-433f-e460-d45c8748d5b4"
      },
      "source": [
        "X_train.shape , X_test.shape"
      ],
      "execution_count": 5,
      "outputs": [
        {
          "output_type": "execute_result",
          "data": {
            "text/plain": [
              "((13399, 784), (6600, 784))"
            ]
          },
          "metadata": {
            "tags": []
          },
          "execution_count": 5
        }
      ]
    },
    {
      "cell_type": "markdown",
      "metadata": {
        "id": "nr8hxUuxvheU"
      },
      "source": [
        "# Sklearn KNN implementation\n"
      ]
    },
    {
      "cell_type": "code",
      "metadata": {
        "id": "uhWV14F-CoET"
      },
      "source": [
        "from sklearn.neighbors import KNeighborsClassifier"
      ],
      "execution_count": 6,
      "outputs": []
    },
    {
      "cell_type": "code",
      "metadata": {
        "id": "N0A0bz1aDFT3"
      },
      "source": [
        "model = KNeighborsClassifier()"
      ],
      "execution_count": 7,
      "outputs": []
    },
    {
      "cell_type": "code",
      "metadata": {
        "id": "kpz4D7x-C899",
        "colab": {
          "base_uri": "https://localhost:8080/"
        },
        "outputId": "34fd4c4d-660f-4511-828f-0df2d3417eb1"
      },
      "source": [
        "# only plotting of points taking place\n",
        "# no work happening in training knn model\n",
        "model.fit(X_train,y_train)"
      ],
      "execution_count": 8,
      "outputs": [
        {
          "output_type": "execute_result",
          "data": {
            "text/plain": [
              "KNeighborsClassifier(algorithm='auto', leaf_size=30, metric='minkowski',\n",
              "                     metric_params=None, n_jobs=None, n_neighbors=5, p=2,\n",
              "                     weights='uniform')"
            ]
          },
          "metadata": {
            "tags": []
          },
          "execution_count": 8
        }
      ]
    },
    {
      "cell_type": "code",
      "metadata": {
        "id": "knNYSrIODJgk",
        "colab": {
          "base_uri": "https://localhost:8080/"
        },
        "outputId": "15f54796-6900-4583-b45d-3e6da79a1a78"
      },
      "source": [
        "model.predict(X_test[:10])"
      ],
      "execution_count": 9,
      "outputs": [
        {
          "output_type": "execute_result",
          "data": {
            "text/plain": [
              "array([1, 7, 0, 9, 4, 5, 4, 6, 9, 2], dtype=uint8)"
            ]
          },
          "metadata": {
            "tags": []
          },
          "execution_count": 9
        }
      ]
    },
    {
      "cell_type": "code",
      "metadata": {
        "id": "MkwVyieaDWqC",
        "colab": {
          "base_uri": "https://localhost:8080/"
        },
        "outputId": "f446d71c-aa96-4a68-dd49-d29084df24df"
      },
      "source": [
        "y_test[:10]"
      ],
      "execution_count": 10,
      "outputs": [
        {
          "output_type": "execute_result",
          "data": {
            "text/plain": [
              "array([7, 7, 0, 9, 4, 5, 4, 6, 9, 2], dtype=uint8)"
            ]
          },
          "metadata": {
            "tags": []
          },
          "execution_count": 10
        }
      ]
    },
    {
      "cell_type": "code",
      "metadata": {
        "id": "yxEI-9HBDgKk",
        "colab": {
          "base_uri": "https://localhost:8080/",
          "height": 283
        },
        "outputId": "af1240ff-aa80-4067-f4fd-196edeaddeee"
      },
      "source": [
        "plt.imshow(X_test[0].reshape(28,28))"
      ],
      "execution_count": 11,
      "outputs": [
        {
          "output_type": "execute_result",
          "data": {
            "text/plain": [
              "<matplotlib.image.AxesImage at 0x7f696c5a7f28>"
            ]
          },
          "metadata": {
            "tags": []
          },
          "execution_count": 11
        },
        {
          "output_type": "display_data",
          "data": {
            "image/png": "[encoded data removed]",
            "text/plain": [
              "<Figure size 432x288 with 1 Axes>"
            ]
          },
          "metadata": {
            "tags": [],
            "needs_background": "light"
          }
        }
      ]
    },
    {
      "cell_type": "code",
      "metadata": {
        "id": "ArZj55R5Dqhd",
        "colab": {
          "base_uri": "https://localhost:8080/"
        },
        "outputId": "40dacdde-0027-4300-dd94-5c75602c8f6b"
      },
      "source": [
        "model.score(X_test[:1000],y_test[:1000])"
      ],
      "execution_count": 12,
      "outputs": [
        {
          "output_type": "execute_result",
          "data": {
            "text/plain": [
              "0.946"
            ]
          },
          "metadata": {
            "tags": []
          },
          "execution_count": 12
        }
      ]
    },
    {
      "cell_type": "markdown",
      "metadata": {
        "id": "FRDBouciHR4i"
      },
      "source": [
        "# Custom KNN"
      ]
    },
    {
      "cell_type": "code",
      "metadata": {
        "id": "6oOhUQu5G0lg"
      },
      "source": [
        "class CustomKNN:\n",
        "\n",
        "    def __init__(self, n_neighbours=5):\n",
        "        self.n_neighbours = n_neighbours\n",
        "        \n",
        "    # training function\n",
        "    def fit(self, X, y):\n",
        "        self._X = (X - X.mean()) / X.std() # standardisation\n",
        "        self._y = y\n",
        "    \n",
        "    # predict point\n",
        "    # given a single point, find it's class  \n",
        "    def predict_point(self, point):\n",
        "        # storing the dis of given 'point' from each point in training data\n",
        "        list_dist = []\n",
        "        \n",
        "        # these points are from my training data\n",
        "        for x_point, y_point in zip(self._X, self._y):\n",
        "            dist_point = ((point - x_point) ** 2).sum()\n",
        "            list_dist.append([dist_point, y_point])\n",
        "        \n",
        "        # sorting the list according to the distance\n",
        "        sorted_dist = sorted(list_dist)\n",
        "        top_k = sorted_dist[:self.n_neighbours]\n",
        "        \n",
        "        # taking the count \n",
        "        items, counts = np.unique(np.array(top_k)[:, 1], return_counts=True)\n",
        "        ans = items[np.argmax(counts)]\n",
        "        return ans\n",
        "            \n",
        "    # gives answer for each number in the array\n",
        "    def predict(self, X):\n",
        "        results = []\n",
        "        X = (X - X.mean()) / X.std() \n",
        "        for point in X:\n",
        "            results.append(self.predict_point(point))\n",
        "        return np.array(results, dtype=int)\n",
        "\n",
        "    # score to measure accuracy\n",
        "    def score(self, X, y):\n",
        "        return sum(self.predict(X) == y) / len(y)"
      ],
      "execution_count": 13,
      "outputs": []
    },
    {
      "cell_type": "code",
      "metadata": {
        "id": "o5KlqXIwYQQ2"
      },
      "source": [
        "model2 = CustomKNN()"
      ],
      "execution_count": 14,
      "outputs": []
    },
    {
      "cell_type": "code",
      "metadata": {
        "id": "GqmJr8N9YU9Y"
      },
      "source": [
        "model2.fit(X_train, y_train)\n"
      ],
      "execution_count": 15,
      "outputs": []
    },
    {
      "cell_type": "code",
      "metadata": {
        "id": "4sLV4BP5YXCC",
        "colab": {
          "base_uri": "https://localhost:8080/"
        },
        "outputId": "8cee14fd-eff4-490b-a087-a20c1fcb71f1"
      },
      "source": [
        "model2.predict(X_test[:10])"
      ],
      "execution_count": 16,
      "outputs": [
        {
          "output_type": "execute_result",
          "data": {
            "text/plain": [
              "array([1, 7, 0, 9, 4, 5, 4, 6, 9, 2])"
            ]
          },
          "metadata": {
            "tags": []
          },
          "execution_count": 16
        }
      ]
    },
    {
      "cell_type": "code",
      "metadata": {
        "id": "bGojvpg2YZ9y",
        "colab": {
          "base_uri": "https://localhost:8080/"
        },
        "outputId": "afb095b3-a413-40be-d4e1-ab1b4d3d9c23"
      },
      "source": [
        "y_test[:10]"
      ],
      "execution_count": 17,
      "outputs": [
        {
          "output_type": "execute_result",
          "data": {
            "text/plain": [
              "array([7, 7, 0, 9, 4, 5, 4, 6, 9, 2], dtype=uint8)"
            ]
          },
          "metadata": {
            "tags": []
          },
          "execution_count": 17
        }
      ]
    },
    {
      "cell_type": "code",
      "metadata": {
        "id": "B14ktckKYcpM",
        "colab": {
          "base_uri": "https://localhost:8080/"
        },
        "outputId": "414d3aac-6e8b-468b-ef4f-c6be7fcee686"
      },
      "source": [
        "model2.score(X_test[:1000], y_test[:1000])\n",
        " # more time consumption for similar accuracy"
      ],
      "execution_count": 19,
      "outputs": [
        {
          "output_type": "execute_result",
          "data": {
            "text/plain": [
              "0.947"
            ]
          },
          "metadata": {
            "tags": []
          },
          "execution_count": 19
        }
      ]
    }
  ]
}